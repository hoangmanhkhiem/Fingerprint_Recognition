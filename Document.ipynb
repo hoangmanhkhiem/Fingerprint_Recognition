{
  "nbformat": 4,
  "nbformat_minor": 0,
  "metadata": {
    "colab": {
      "provenance": [],
      "collapsed_sections": []
    },
    "kernelspec": {
      "name": "python3",
      "display_name": "Python 3"
    },
    "language_info": {
      "name": "python"
    }
  },
  "cells": [
    {
      "cell_type": "code",
      "execution_count": 1,
      "metadata": {
        "colab": {
          "base_uri": "https://localhost:8080/"
        },
        "id": "BAGktwhFkx-8",
        "outputId": "1f43c658-416e-4252-9cde-5742e1e72319"
      },
      "outputs": [
        {
          "output_type": "stream",
          "name": "stdout",
          "text": [
            "Drive already mounted at /content/drive; to attempt to forcibly remount, call drive.mount(\"/content/drive\", force_remount=True).\n"
          ]
        }
      ],
      "source": [
        "from google.colab import drive\n",
        "\n",
        "drive.mount('/content/drive')"
      ]
    },
    {
      "cell_type": "code",
      "source": [
        "!unzip '/content/drive/MyDrive/Fingerprint_recognition/fingerprint_recognition.zip' -d '/content'"
      ],
      "metadata": {
        "id": "-hRE95WAlXWY",
        "colab": {
          "base_uri": "https://localhost:8080/"
        },
        "outputId": "0c7cab68-7082-4bee-eb69-5c785bb6c5d0"
      },
      "execution_count": 2,
      "outputs": [
        {
          "output_type": "stream",
          "name": "stdout",
          "text": [
            "Archive:  /content/drive/MyDrive/Fingerprint_recognition/fingerprint_recognition.zip\n",
            "   creating: /content/fingerprint_recognition/\n",
            "   creating: /content/fingerprint_recognition/.git/\n",
            "  inflating: /content/fingerprint_recognition/.git/config  \n",
            "  inflating: /content/fingerprint_recognition/.git/description  \n",
            "  inflating: /content/fingerprint_recognition/.git/HEAD  \n",
            "   creating: /content/fingerprint_recognition/.git/hooks/\n",
            "  inflating: /content/fingerprint_recognition/.git/hooks/applypatch-msg.sample  \n",
            "  inflating: /content/fingerprint_recognition/.git/hooks/commit-msg.sample  \n",
            "  inflating: /content/fingerprint_recognition/.git/hooks/fsmonitor-watchman.sample  \n",
            "  inflating: /content/fingerprint_recognition/.git/hooks/post-update.sample  \n",
            "  inflating: /content/fingerprint_recognition/.git/hooks/pre-applypatch.sample  \n",
            "  inflating: /content/fingerprint_recognition/.git/hooks/pre-commit.sample  \n",
            "  inflating: /content/fingerprint_recognition/.git/hooks/pre-merge-commit.sample  \n",
            "  inflating: /content/fingerprint_recognition/.git/hooks/pre-push.sample  \n",
            "  inflating: /content/fingerprint_recognition/.git/hooks/pre-rebase.sample  \n",
            "  inflating: /content/fingerprint_recognition/.git/hooks/pre-receive.sample  \n",
            "  inflating: /content/fingerprint_recognition/.git/hooks/prepare-commit-msg.sample  \n",
            "  inflating: /content/fingerprint_recognition/.git/hooks/push-to-checkout.sample  \n",
            "  inflating: /content/fingerprint_recognition/.git/hooks/update.sample  \n",
            "  inflating: /content/fingerprint_recognition/.git/index  \n",
            "   creating: /content/fingerprint_recognition/.git/info/\n",
            "  inflating: /content/fingerprint_recognition/.git/info/exclude  \n",
            "   creating: /content/fingerprint_recognition/.git/logs/\n",
            "  inflating: /content/fingerprint_recognition/.git/logs/HEAD  \n",
            "   creating: /content/fingerprint_recognition/.git/logs/refs/\n",
            "   creating: /content/fingerprint_recognition/.git/logs/refs/heads/\n",
            "  inflating: /content/fingerprint_recognition/.git/logs/refs/heads/master  \n",
            "   creating: /content/fingerprint_recognition/.git/logs/refs/remotes/\n",
            "   creating: /content/fingerprint_recognition/.git/logs/refs/remotes/origin/\n",
            "  inflating: /content/fingerprint_recognition/.git/logs/refs/remotes/origin/HEAD  \n",
            "   creating: /content/fingerprint_recognition/.git/objects/\n",
            "   creating: /content/fingerprint_recognition/.git/objects/info/\n",
            "   creating: /content/fingerprint_recognition/.git/objects/pack/\n",
            "  inflating: /content/fingerprint_recognition/.git/objects/pack/pack-62d1190b8cb0a559c61e9647650992237eeec5fe.idx  \n",
            "  inflating: /content/fingerprint_recognition/.git/objects/pack/pack-62d1190b8cb0a559c61e9647650992237eeec5fe.pack  \n",
            "  inflating: /content/fingerprint_recognition/.git/packed-refs  \n",
            "   creating: /content/fingerprint_recognition/.git/refs/\n",
            "   creating: /content/fingerprint_recognition/.git/refs/heads/\n",
            "  inflating: /content/fingerprint_recognition/.git/refs/heads/master  \n",
            "   creating: /content/fingerprint_recognition/.git/refs/remotes/\n",
            "   creating: /content/fingerprint_recognition/.git/refs/remotes/origin/\n",
            "  inflating: /content/fingerprint_recognition/.git/refs/remotes/origin/HEAD  \n",
            "   creating: /content/fingerprint_recognition/.git/refs/tags/\n",
            "   creating: /content/fingerprint_recognition/.idea/\n",
            "  inflating: /content/fingerprint_recognition/.idea/biometric.iml  \n",
            "   creating: /content/fingerprint_recognition/.idea/inspectionProfiles/\n",
            "  inflating: /content/fingerprint_recognition/.idea/inspectionProfiles/Project_Default.xml  \n",
            "   creating: /content/fingerprint_recognition/.idea/markdown-navigator/\n",
            "  inflating: /content/fingerprint_recognition/.idea/markdown-navigator/profiles_settings.xml  \n",
            "  inflating: /content/fingerprint_recognition/.idea/markdown-navigator.xml  \n",
            "  inflating: /content/fingerprint_recognition/.idea/misc.xml  \n",
            "  inflating: /content/fingerprint_recognition/.idea/modules.xml  \n",
            "  inflating: /content/fingerprint_recognition/.idea/vcs.xml  \n",
            "  inflating: /content/fingerprint_recognition/.idea/workspace.xml  \n",
            "  inflating: /content/fingerprint_recognition/CODE_OF_CONDUCT.md  \n",
            "  inflating: /content/fingerprint_recognition/CONTRIBUTING.md  \n",
            "   creating: /content/fingerprint_recognition/database/\n",
            "   creating: /content/fingerprint_recognition/docs/\n",
            "  inflating: /content/fingerprint_recognition/docs/pipeline.png  \n",
            "  inflating: /content/fingerprint_recognition/docs/results.png  \n",
            "  inflating: /content/fingerprint_recognition/docs/ridges.png  \n",
            "   creating: /content/fingerprint_recognition/docs/ScienceDirect_articles_21Jul2019_07-53-10.345/\n",
            "  inflating: /content/fingerprint_recognition/docs/ScienceDirect_articles_21Jul2019_07-53-10.345/1-s2.0-S1877050910003479-main.pdf  \n",
            "  inflating: /content/fingerprint_recognition/docs/ScienceDirect_articles_21Jul2019_07-53-10.345/A-Bar-Code-Design-and-Encoding-for-Fingerprints_2013_Procedia-Technology.pdf  \n",
            "  inflating: /content/fingerprint_recognition/docs/ScienceDirect_articles_21Jul2019_07-53-10.345/A-medium-resolution-fingerprint-matching-sys_2013_Ain-Shams-Engineering-Jour.pdf  \n",
            "  inflating: /content/fingerprint_recognition/docs/ScienceDirect_articles_21Jul2019_07-53-10.345/Biometric-Based-Unique-ID-Generation-and-One-to-One-Ver_2015_Procedia-Comput.pdf  \n",
            "  inflating: /content/fingerprint_recognition/docs/ScienceDirect_articles_21Jul2019_07-53-10.345/Classification-of-fingerprint-images-with-the-aid-of-_2018_Applied-Computing.pdf  \n",
            "  inflating: /content/fingerprint_recognition/docs/ScienceDirect_articles_21Jul2019_07-53-10.345/Enhancement-of-Fingerprint-Using-FFT--FFT-n-Fil_2015_Procedia-Computer-Scien.pdf  \n",
            "  inflating: /content/fingerprint_recognition/docs/ScienceDirect_articles_21Jul2019_07-53-10.345/Fast-and-accurate-algorithm-for-core-point-detectio_2013_Egyptian-Informatic.pdf  \n",
            "  inflating: /content/fingerprint_recognition/finegerprint_pipline.py  \n",
            "  inflating: /content/fingerprint_recognition/fingerprint_recognition.py  \n",
            "   creating: /content/fingerprint_recognition/finger_signed/\n",
            "  inflating: /content/fingerprint_recognition/finger_signed/101_1.tif  \n",
            "  inflating: /content/fingerprint_recognition/finger_signed/102_1.tif  \n",
            "  inflating: /content/fingerprint_recognition/finger_signed/103_1.tif  \n",
            "  inflating: /content/fingerprint_recognition/finger_signed/104_1.tif  \n",
            "  inflating: /content/fingerprint_recognition/finger_signed/105_1.tif  \n",
            "  inflating: /content/fingerprint_recognition/finger_signed/106_1.tif  \n",
            "  inflating: /content/fingerprint_recognition/finger_signed/107_1.tif  \n",
            "  inflating: /content/fingerprint_recognition/finger_signed/108_1.tif  \n",
            "  inflating: /content/fingerprint_recognition/finger_signed/109_1.tif  \n",
            "  inflating: /content/fingerprint_recognition/finger_signed/110_1.tif  \n",
            "   creating: /content/fingerprint_recognition/finger_test/\n",
            "  inflating: /content/fingerprint_recognition/finger_test/101_2.tif  \n",
            "  inflating: /content/fingerprint_recognition/finger_test/101_5.tif  \n",
            "  inflating: /content/fingerprint_recognition/finger_test/101_6.tif  \n",
            "  inflating: /content/fingerprint_recognition/finger_test/102_2.tif  \n",
            "  inflating: /content/fingerprint_recognition/finger_test/102_5.tif  \n",
            "  inflating: /content/fingerprint_recognition/finger_test/102_7.tif  \n",
            "  inflating: /content/fingerprint_recognition/finger_test/103_2.tif  \n",
            "  inflating: /content/fingerprint_recognition/finger_test/103_7.tif  \n",
            "  inflating: /content/fingerprint_recognition/finger_test/103_8.tif  \n",
            "  inflating: /content/fingerprint_recognition/finger_test/104_2.tif  \n",
            "  inflating: /content/fingerprint_recognition/finger_test/104_3.tif  \n",
            "  inflating: /content/fingerprint_recognition/finger_test/104_4.tif  \n",
            "  inflating: /content/fingerprint_recognition/finger_test/105_3.tif  \n",
            "  inflating: /content/fingerprint_recognition/finger_test/105_7.tif  \n",
            "  inflating: /content/fingerprint_recognition/finger_test/105_8.tif  \n",
            "  inflating: /content/fingerprint_recognition/finger_test/106_2.tif  \n",
            "  inflating: /content/fingerprint_recognition/finger_test/106_3.tif  \n",
            "  inflating: /content/fingerprint_recognition/finger_test/106_7.tif  \n",
            "  inflating: /content/fingerprint_recognition/finger_test/107_2.tif  \n",
            "  inflating: /content/fingerprint_recognition/finger_test/107_3.tif  \n",
            "  inflating: /content/fingerprint_recognition/finger_test/107_4.tif  \n",
            "  inflating: /content/fingerprint_recognition/finger_test/108_2.tif  \n",
            "  inflating: /content/fingerprint_recognition/finger_test/108_4.tif  \n",
            "  inflating: /content/fingerprint_recognition/finger_test/108_8.tif  \n",
            "  inflating: /content/fingerprint_recognition/finger_test/109_2.tif  \n",
            "  inflating: /content/fingerprint_recognition/finger_test/109_3.tif  \n",
            "  inflating: /content/fingerprint_recognition/finger_test/109_6.tif  \n",
            "  inflating: /content/fingerprint_recognition/finger_test/110_2.tif  \n",
            "  inflating: /content/fingerprint_recognition/finger_test/110_3.tif  \n",
            "  inflating: /content/fingerprint_recognition/finger_test/110_7.tif  \n",
            "  inflating: /content/fingerprint_recognition/LICENSE  \n",
            "   creating: /content/fingerprint_recognition/output/\n",
            "  inflating: /content/fingerprint_recognition/README.md  \n",
            "  inflating: /content/fingerprint_recognition/requirements.txt  \n",
            "   creating: /content/fingerprint_recognition/utils/\n",
            "  inflating: /content/fingerprint_recognition/utils/color_threshold.py  \n",
            "  inflating: /content/fingerprint_recognition/utils/crossing_number.py  \n",
            "  inflating: /content/fingerprint_recognition/utils/frequency.py  \n",
            "  inflating: /content/fingerprint_recognition/utils/gabor_filter.py  \n",
            "   creating: /content/fingerprint_recognition/utils/images/\n",
            "  inflating: /content/fingerprint_recognition/utils/images/image1.png  \n",
            "  inflating: /content/fingerprint_recognition/utils/images/image10.png  \n",
            "  inflating: /content/fingerprint_recognition/utils/images/image11.png  \n",
            "  inflating: /content/fingerprint_recognition/utils/images/image12.png  \n",
            "  inflating: /content/fingerprint_recognition/utils/images/image13.png  \n",
            "  inflating: /content/fingerprint_recognition/utils/images/image14.png  \n",
            "  inflating: /content/fingerprint_recognition/utils/images/image2.png  \n",
            "  inflating: /content/fingerprint_recognition/utils/images/image3.png  \n",
            "  inflating: /content/fingerprint_recognition/utils/images/image4.png  \n",
            "  inflating: /content/fingerprint_recognition/utils/images/image5.png  \n",
            "  inflating: /content/fingerprint_recognition/utils/images/image6.png  \n",
            "  inflating: /content/fingerprint_recognition/utils/images/image7.png  \n",
            "  inflating: /content/fingerprint_recognition/utils/images/image8.png  \n",
            "  inflating: /content/fingerprint_recognition/utils/images/image9.png  \n",
            "  inflating: /content/fingerprint_recognition/utils/normalization.py  \n",
            "  inflating: /content/fingerprint_recognition/utils/orientation.py  \n",
            "  inflating: /content/fingerprint_recognition/utils/poincare.py  \n",
            "  inflating: /content/fingerprint_recognition/utils/README.md  \n",
            "  inflating: /content/fingerprint_recognition/utils/segmentation.py  \n",
            "  inflating: /content/fingerprint_recognition/utils/skeletonize.py  \n",
            "   creating: /content/fingerprint_recognition/utils/__pycache__/\n",
            "  inflating: /content/fingerprint_recognition/utils/__pycache__/crossing_number.cpython-37.pyc  \n",
            "  inflating: /content/fingerprint_recognition/utils/__pycache__/frequency.cpython-37.pyc  \n",
            "  inflating: /content/fingerprint_recognition/utils/__pycache__/gabor_filter.cpython-37.pyc  \n",
            "  inflating: /content/fingerprint_recognition/utils/__pycache__/normalization.cpython-37.pyc  \n",
            "  inflating: /content/fingerprint_recognition/utils/__pycache__/orientation.cpython-37.pyc  \n",
            "  inflating: /content/fingerprint_recognition/utils/__pycache__/poincare.cpython-37.pyc  \n",
            "  inflating: /content/fingerprint_recognition/utils/__pycache__/segmentation.cpython-37.pyc  \n",
            "  inflating: /content/fingerprint_recognition/utils/__pycache__/skeletonize.cpython-37.pyc  \n"
          ]
        }
      ]
    },
    {
      "cell_type": "code",
      "source": [
        "!python /content/fingerprint_recognition/finegerprint_pipline.py"
      ],
      "metadata": {
        "colab": {
          "base_uri": "https://localhost:8080/"
        },
        "id": "5kSNcYeDmRdv",
        "outputId": "5a1b5a5c-03d2-47de-96eb-1c3c39371c51"
      },
      "execution_count": 3,
      "outputs": [
        {
          "output_type": "stream",
          "name": "stdout",
          "text": [
            " 20% 2/10 [00:07<00:30,  3.84s/it]/content/fingerprint_recognition/utils/poincare.py:94: RuntimeWarning: Mean of empty slice.\n",
            "  delta_right = np.array(delta_right).mean(axis=0)\n",
            "/usr/local/lib/python3.7/dist-packages/numpy/core/_methods.py:189: RuntimeWarning: invalid value encountered in double_scalars\n",
            "  ret = ret.dtype.type(ret / rcount)\n",
            "100% 10/10 [00:38<00:00,  3.82s/it]\n"
          ]
        }
      ]
    },
    {
      "cell_type": "code",
      "source": [
        "!python /content/fingerprint_recognition/fingerprint_recognition.py -f /content/fingerprint_recognition/finger_test/104_2.tif -t 0.7"
      ],
      "metadata": {
        "colab": {
          "base_uri": "https://localhost:8080/"
        },
        "id": "gCHPyY5_8dMf",
        "outputId": "445d254f-d80d-44a8-c394-3a43507aed2c"
      },
      "execution_count": 15,
      "outputs": [
        {
          "output_type": "stream",
          "name": "stdout",
          "text": [
            "104 0.7974683544303798\n"
          ]
        }
      ]
    },
    {
      "cell_type": "code",
      "source": [],
      "metadata": {
        "id": "AsIMIUMo1EbN"
      },
      "execution_count": null,
      "outputs": []
    }
  ]
}